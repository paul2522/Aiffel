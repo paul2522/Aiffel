{
 "cells": [
  {
   "cell_type": "code",
   "execution_count": 3,
   "metadata": {},
   "outputs": [
    {
     "name": "stdout",
     "output_type": "stream",
     "text": [
      "            기간 국가명      수출건수        수출금액      수입건수       수입금액       무역수지\n",
      "186  2020년 03월  중국  248059.0  10658599.0  358234.0  8948918.0  1709682.0\n",
      "187  2020년 03월  중국  248059.0  10658599.0  358234.0  8948918.0  1709682.0\n"
     ]
    }
   ],
   "source": [
    "import os\n",
    "import numpy as np\n",
    "import pandas as pd\n",
    "\n",
    "csv_file_path = '/home/aiffel/Code/Practice3/trade.csv'\n",
    "trade = pd.read_csv(csv_file_path) \n",
    "print(trade.head())\n",
    "print('전체 데이터 건수:', len(trade))\n",
    "print('컬럼별 결측치 개수','전체 길이 - count()')\n",
    "print(len(trade) - trade.count())"
   ]
  },
  {
   "cell_type": "code",
   "execution_count": null,
   "metadata": {},
   "outputs": [],
   "source": [
    "print('기타사항은 전부 결측치 : 아무 내용이 없는 열이기 때문 고로 삭제')\n",
    "trade = trade.drop('기타사항', axis=1)\n",
    "print(trade.head())\n",
    "print(trade.isnull()) # null만 보여줌\n",
    "print(trade[trade.isnull().any(axis=1)]) #null만 들어있는 Dataframe으로 보여줌"
   ]
  },
  {
   "cell_type": "code",
   "execution_count": null,
   "metadata": {},
   "outputs": [],
   "source": [
    "# trade에서 subset 열의 값이 모두 결측치일 때 행을 삭제 inplace 옵션으로 바로 적용\n",
    "trade.dropna(how='all', subset=['수출건수', '수출금액', '수입건수', '수입금액', '무역수지'], inplace=True)\n",
    "print(trade[trade.isnull().any(axis=1)]) #null만 들어있는 Dataframe으로 보여줌"
   ]
  },
  {
   "cell_type": "code",
   "execution_count": null,
   "metadata": {},
   "outputs": [],
   "source": [
    "# loc[row, col] 로 해당 위치 값 가져옴\n",
    "trade.loc[[188, 191, 194]] # 188, 191, 194 행 들을 가져온다.\n",
    "print(trade.loc[[188, 191, 194]])\n",
    "# 191행의 비어있는 수출금액을 전/후달의 평균 금액으로 무역수지를 수출-수입으로 구해서 넣는다.\n",
    "trade.loc[191,'수출금액'] = (trade.loc[188,'수출금액'] + trade.loc[194, '수출금액']) / 2\n",
    "oldData = trade.loc[191,'수출금액']\n",
    "trade.loc[191,'무역수지'] = (trade.loc[191,'수출금액'] - trade.loc[191, '수입금액'])\n",
    "print(trade.loc[191])\n",
    "#change value by index\n",
    "trade.iloc[191, 5] = 0\n",
    "print(trade.iloc[191])"
   ]
  },
  {
   "cell_type": "code",
   "execution_count": null,
   "metadata": {},
   "outputs": [],
   "source": [
    "# Dulplicated data preprocessing\n",
    "print(trade[trade.duplicated()]) #only show one row(same)\n",
    "# to show all rows that same values\n",
    "print(trade[(trade['기간']=='2020년 03월')&(trade['국가명']=='중국')])\n",
    "trade.drop_duplicates(inplace=True) # erase duplicated data and change\n",
    "print(trade[(trade['기간']=='2020년 03월')&(trade['국가명']=='중국')])\n",
    "#print(trade.loc[187]) - index 187이 없어서 error\n",
    "# 행 자체가 삭제된다 186, 188... 당겨주는 함수도 있음 "
   ]
  }
 ],
 "metadata": {
  "kernelspec": {
   "display_name": "Python 3.10.4 64-bit",
   "language": "python",
   "name": "python3"
  },
  "language_info": {
   "codemirror_mode": {
    "name": "ipython",
    "version": 3
   },
   "file_extension": ".py",
   "mimetype": "text/x-python",
   "name": "python",
   "nbconvert_exporter": "python",
   "pygments_lexer": "ipython3",
   "version": "3.10.4"
  },
  "orig_nbformat": 4,
  "vscode": {
   "interpreter": {
    "hash": "916dbcbb3f70747c44a77c7bcd40155683ae19c65e1c03b4aa3499c5328201f1"
   }
  }
 },
 "nbformat": 4,
 "nbformat_minor": 2
}
